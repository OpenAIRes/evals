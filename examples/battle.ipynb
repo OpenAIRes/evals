{
 "cells": [
  {
   "attachments": {},
   "cell_type": "markdown",
   "metadata": {},
   "source": [
    "## Building a BATTLE Eval\n",
    "\n",
    "This notebook shows how to:\n",
    "- Build and run an eval\n",
    "- Load the results and into a Pandas Dataframe"
   ]
  },
  {
   "cell_type": "code",
   "execution_count": 169,
   "metadata": {},
   "outputs": [],
   "source": [
    "initial_message = [{\"role\": \"user\", \"content\": \"\"}]\n",
    "#!cd evals\n",
    "#!git lfs fetch --all\n",
    "#!git lfs pull"
   ]
  },
  {
   "cell_type": "code",
   "execution_count": 170,
   "metadata": {},
   "outputs": [],
   "source": [
    "import os\n",
    "from openai import OpenAI\n",
    "import pandas as pd\n",
    "import yaml\n",
    "#from dotenv import load_dotenv\n",
    "\n",
    "#load_dotenv()  # Load environment variables from .env file\n",
    "\n",
    "#api_key = os.environ.get(\"OPENAI_API_KEY\")\n",
    "#client = OpenAI()\n",
    "\n",
    "# Install Evals if you haven't already\n",
    "# %pip install -e ../.\n",
    "# pip install --upgrade openai\n",
    "# %pip install pandas\n"
   ]
  },
  {
   "cell_type": "code",
   "execution_count": 171,
   "metadata": {},
   "outputs": [],
   "source": [
    "# Paths. Assuming this notebook is in examples/\n",
    "\n",
    "evals_path = os.path.join(os.getcwd(), \"..\", \"evals\")\n",
    "\n",
    "registry_path = os.path.join(evals_path, \"registry\", \"evals\", \"battles.yaml\")\n",
    "\n",
    "data_path = os.path.join(evals_path, \"registry\", \"data\", \"battles\")\n",
    "os.makedirs(data_path, exist_ok=True)\n",
    "data_path = os.path.join(data_path, \"samples.jsonl\")\n",
    "\n",
    "json_logs_path = os.path.join(os.getcwd(), \"logs\")\n",
    "os.makedirs(json_logs_path, exist_ok=True)\n",
    "json_logs_path = os.path.join(json_logs_path, \"logs\")\n",
    "\n",
    "df_path = os.path.join(evals_path, \"evallogs\", \"df\")\n",
    "os.makedirs(df_path, exist_ok=True)"
   ]
  },
  {
   "cell_type": "code",
   "execution_count": 172,
   "metadata": {},
   "outputs": [],
   "source": [
    "# Registry yaml\n",
    "\n",
    "registry_yaml = {}\n",
    "\n",
    "registry_yaml[\"battles\"] = {\n",
    "    \"id\": \"battles.test.v1\",\n",
    "    \"metrics\": [\"accuracy\"]\n",
    "}\n",
    "registry_yaml[\"battles.test.v1\"] = {\n",
    "    \"class\": \"evals.elsuite.modelgraded.classify:ModelBasedClassify\",\n",
    "    \"args\": {\n",
    "        \"samples_jsonl\": \"battles/samples.jsonl\",\n",
    "        \"eval_type\": \"cot_classify\",\n",
    "        \"modelgraded_spec\": \"battle\"\n",
    "    }\n",
    "}\n",
    "with open(os.path.join(registry_path), \"w\") as f:\n",
    "    yaml.dump(registry_yaml, f)"
   ]
  },
  {
   "cell_type": "code",
   "execution_count": 173,
   "metadata": {},
   "outputs": [],
   "source": [
    "# Data structure\n",
    "\n",
    "dataset = []\n",
    "candidate_messages = [initial_message]\n",
    "next_candidate_messages = []\n",
    "best_responses = []\n",
    "best_messages = [initial_message]"
   ]
  },
  {
   "cell_type": "code",
   "execution_count": 174,
   "metadata": {},
   "outputs": [],
   "source": [
    "def battle(best_message, candidate_message):\n",
    "\n",
    "    dataset = [{\"input1\": candidate_message, \"input2\": best_message}]\n",
    "\n",
    "    df = pd.DataFrame(dataset)\n",
    "    df.to_json(data_path, orient=\"records\", lines=True)\n",
    "\n",
    "    !oaieval gpt-3.5-turbo battles --record_path logs/logs\n",
    "    \n",
    "    with open(json_logs_path, \"r\") as f:\n",
    "        df = pd.read_json(f, lines=True)\n",
    "\n",
    "    df.to_json(os.path.join(df_path, \"events\"), lines=True, orient=\"records\")\n",
    "\n",
    "    instruction1 = candidate_message[0][\"content\"]\n",
    "    instruction2 = best_message[0][\"content\"]\n",
    "\n",
    "    battle_prompt_content = events_df[\"data\"].iloc[-2][\"prompt\"][0][\"content\"]\n",
    "    response1 = battle_prompt_content.split(\"\\n[Response 1]\\n\",)[1].split(\"\\n\\n[Instruction 2]\\n\")[0]\n",
    "    response1 = response1.replace(\"\\\\'\", \"'\").replace(\"\\\\n\", \"\\n\")\n",
    "    response2 = battle_prompt_content.split(\"\\n[Response 2]\\n\",)[1].split(\"\\n\\n\\nIs the first response better than the second?\")[0]\n",
    "    response2 = response1.replace(\"\\\\'\", \"'\").replace(\"\\\\n\", \"\\n\")\n",
    "\n",
    "    sampled = events_df[\"data\"].iloc[-2][\"sampled\"][0]\n",
    "\n",
    "    choice = events_df[\"data\"].iloc[-1][\"choice\"]\n",
    "\n",
    "    df.to_json(os.path.join(df_path, \"data_full\"), lines=True, orient=\"records\")\n",
    "    data = {'Instruction1': instruction1, 'Response1': response1, 'Instruction2': instruction2, 'Response2': response2, 'Sampled': sampled, 'Choice': choice}\n",
    "    return data"
   ]
  },
  {
   "cell_type": "code",
   "execution_count": 175,
   "metadata": {},
   "outputs": [],
   "source": [
    "def switch_system_and_user(message):\n",
    "    new_message = []\n",
    "    if message[0][\"role\"] == \"system\":\n",
    "        new_message.append({\"role\": \"user\", \"content\": message[0][\"content\"]})\n",
    "    else:\n",
    "        new_message.append({\"role\": \"system\", \"content\": message[0][\"content\"]})\n",
    "    return new_message"
   ]
  },
  {
   "cell_type": "code",
   "execution_count": 176,
   "metadata": {},
   "outputs": [
    {
     "name": "stdout",
     "output_type": "stream",
     "text": [
      "[2024-08-06 09:09:38,060] [registry.py:271] Loading registry from /Users/janvotava/Desktop/evals/evals/registry/evals\n",
      "[2024-08-06 09:09:39,791] [registry.py:271] Loading registry from /Users/janvotava/.evals/evals\n",
      "[2024-08-06 09:09:39,798] [oaieval.py:215] \u001b[1;35mRun started: 240806070939J34H77MS\u001b[0m\n",
      "[2024-08-06 09:09:39,802] [registry.py:271] Loading registry from /Users/janvotava/Desktop/evals/evals/registry/modelgraded\n",
      "[2024-08-06 09:09:39,849] [registry.py:271] Loading registry from /Users/janvotava/.evals/modelgraded\n",
      "[2024-08-06 09:09:39,849] [data.py:94] Fetching /Users/janvotava/Desktop/evals/evals/registry/data/battles/samples.jsonl\n",
      "[2024-08-06 09:09:39,850] [eval.py:36] Evaluating 1 samples\n",
      "[2024-08-06 09:09:39,867] [eval.py:144] Running in threaded mode with 10 threads!\n",
      "100%|█████████████████████████████████████████████| 1/1 [00:03<00:00,  3.11s/it]\n",
      "[2024-08-06 09:09:42,984] [oaieval.py:275] Found 3/3 sampling events with usage data\n",
      "[2024-08-06 09:09:42,985] [oaieval.py:283] Token usage from 3 sampling events:\n",
      "completion_tokens: 56\n",
      "prompt_tokens: 169\n",
      "total_tokens: 225\n",
      "[2024-08-06 09:09:42,985] [record.py:371] Final report: {'counts/No': 1, 'score': 0.0, 'usage_completion_tokens': 56, 'usage_prompt_tokens': 169, 'usage_total_tokens': 225}. Logged to logs/logs\n",
      "[2024-08-06 09:09:42,985] [oaieval.py:233] Final report:\n",
      "[2024-08-06 09:09:42,985] [oaieval.py:235] counts/No: 1\n",
      "[2024-08-06 09:09:42,985] [oaieval.py:235] score: 0.0\n",
      "[2024-08-06 09:09:42,985] [oaieval.py:235] usage_completion_tokens: 56\n",
      "[2024-08-06 09:09:42,985] [oaieval.py:235] usage_prompt_tokens: 169\n",
      "[2024-08-06 09:09:42,985] [oaieval.py:235] usage_total_tokens: 225\n",
      "[2024-08-06 09:09:42,992] [record.py:360] Logged 4 rows of events to logs/logs: insert_time=4.434ms\n"
     ]
    }
   ],
   "source": [
    "for candidate_message in candidate_messages:\n",
    "    data = battle(best_messages[-1], candidate_message)\n",
    "    if data[\"Choice\"] == \"Yes\":\n",
    "        best_messages.append(candidate_message)\n",
    "        best_responses.append(data[\"Response1\"]) \n",
    "    dataset.append(data)\n",
    "    new_message = [{\"role\": candidate_message[0][\"role\"], \"content\":data[\"Response1\"]}]\n",
    "    if new_message not in next_candidate_messages:\n",
    "        next_candidate_messages.append(new_message)\n",
    "        next_candidate_messages.append(switch_system_and_user(new_message))"
   ]
  },
  {
   "cell_type": "code",
   "execution_count": 177,
   "metadata": {},
   "outputs": [
    {
     "data": {
      "text/plain": [
       "[[{'role': 'user', 'content': 'Hello! How can I assist you today?'}],\n",
       " [{'role': 'system', 'content': 'Hello! How can I assist you today?'}]]"
      ]
     },
     "execution_count": 177,
     "metadata": {},
     "output_type": "execute_result"
    }
   ],
   "source": [
    "next_candidate_messages"
   ]
  },
  {
   "cell_type": "code",
   "execution_count": 178,
   "metadata": {},
   "outputs": [
    {
     "data": {
      "text/plain": [
       "{'Instruction1': '',\n",
       " 'Response1': 'Hello! How can I assist you today?',\n",
       " 'Instruction2': '',\n",
       " 'Response2': 'Hello! How can I assist you today?',\n",
       " 'Sampled': '1. Both responses are identical in content and structure.\\n2. There is no distinguishable difference between the two responses.\\n3. Both responses effectively address the instruction given.\\n\\nNo\\n\\nNo',\n",
       " 'Choice': 'No'}"
      ]
     },
     "execution_count": 178,
     "metadata": {},
     "output_type": "execute_result"
    }
   ],
   "source": [
    "data"
   ]
  }
 ],
 "metadata": {
  "kernelspec": {
   "display_name": "Python 3 (ipykernel)",
   "language": "python",
   "name": "python3"
  },
  "language_info": {
   "codemirror_mode": {
    "name": "ipython",
    "version": 3
   },
   "file_extension": ".py",
   "mimetype": "text/x-python",
   "name": "python",
   "nbconvert_exporter": "python",
   "pygments_lexer": "ipython3",
   "version": "3.12.4"
  },
  "toc": {
   "base_numbering": 1,
   "nav_menu": {},
   "number_sections": true,
   "sideBar": true,
   "skip_h1_title": false,
   "title_cell": "Table of Contents",
   "title_sidebar": "Contents",
   "toc_cell": false,
   "toc_position": {},
   "toc_section_display": true,
   "toc_window_display": false
  },
  "vscode": {
   "interpreter": {
    "hash": "fdbe172e46cfba2329a5e8d5b64cdf2d12f4dfd7d9bcea153ecef62d1d51933b"
   }
  }
 },
 "nbformat": 4,
 "nbformat_minor": 2
}
