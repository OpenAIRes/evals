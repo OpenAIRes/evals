{
 "cells": [
  {
   "attachments": {},
   "cell_type": "markdown",
   "metadata": {},
   "source": [
    "## Building a BATTLE Eval\n",
    "\n",
    "This notebook shows how to:\n",
    "- Build and run an eval\n",
    "- Load the results and into a Pandas Dataframe"
   ]
  },
  {
   "cell_type": "code",
   "execution_count": 1,
   "metadata": {},
   "outputs": [],
   "source": [
    "initial_message = [{\"role\": \"user\", \"content\": \"\"}]"
   ]
  },
  {
   "cell_type": "code",
   "execution_count": 8,
   "metadata": {},
   "outputs": [],
   "source": [
    "#!cd evals\n",
    "#!git lfs fetch --all\n",
    "#!git lfs pull"
   ]
  },
  {
   "cell_type": "code",
   "execution_count": 3,
   "metadata": {},
   "outputs": [],
   "source": [
    "import os\n",
    "from openai import OpenAI\n",
    "import pandas as pd\n",
    "#from dotenv import load_dotenv\n",
    "\n",
    "#load_dotenv()  # Load environment variables from .env file\n",
    "\n",
    "#api_key = os.environ.get(\"OPENAI_API_KEY\")\n",
    "client = OpenAI()\n",
    "\n",
    "# Install Evals if you haven't already\n",
    "# %pip install -e ../.\n",
    "# pip install --upgrade openai\n",
    "\n",
    "# %pip install pandas\n"
   ]
  },
  {
   "cell_type": "code",
   "execution_count": 4,
   "metadata": {},
   "outputs": [],
   "source": [
    "# Assuming this notebook is in examples/\n",
    "registry_path = os.path.join(os.getcwd(), \"..\", \"evals\", \"registry\")\n",
    "data_path = os.path.join(registry_path, \"data\", \"battles\")\n",
    "os.makedirs(data_path, exist_ok=True)"
   ]
  },
  {
   "cell_type": "code",
   "execution_count": 5,
   "metadata": {},
   "outputs": [],
   "source": [
    "top_message = initial_message\n",
    "data_all = []"
   ]
  },
  {
   "cell_type": "code",
   "execution_count": 6,
   "metadata": {},
   "outputs": [
    {
     "data": {
      "text/plain": [
       "[{'instruction1': [{'role': 'user', 'content': ''}],\n",
       "  'instruction2': [{'role': 'user', 'content': ''}]},\n",
       " {'instruction1': [{'role': 'user', 'content': ''}],\n",
       "  'instruction2': [{'role': 'system', 'content': ''}]}]"
      ]
     },
     "execution_count": 6,
     "metadata": {},
     "output_type": "execute_result"
    }
   ],
   "source": [
    "# Build the initial candidates dataset\n",
    "\n",
    "def switch_system_and_user(message):\n",
    "    new_message = []\n",
    "    if message[0][\"role\"] == \"system\":\n",
    "        new_message.append({\"role\": \"user\", \"content\": message[0][\"content\"]})\n",
    "    else:\n",
    "        new_message.append({\"role\": \"system\", \"content\": message[0][\"content\"]})\n",
    "    return new_message\n",
    "\n",
    "def initial_candidates_dataset(top_message):\n",
    "    dataset = [\n",
    "            {\"instruction1\": top_message, \"instruction2\": top_message},\n",
    "            {\"instruction1\": top_message, \"instruction2\": switch_system_and_user(top_message)}\n",
    "        ]\n",
    "    return dataset\n",
    "\n",
    "dataset = initial_candidates_dataset(top_message)\n",
    "dataset\n"
   ]
  },
  {
   "cell_type": "code",
   "execution_count": 7,
   "metadata": {},
   "outputs": [],
   "source": [
    "# %pip install yaml\n",
    "import yaml\n",
    "\n",
    "# Assuming this notebook is in examples/\n",
    "registry_path = os.path.join(os.getcwd(), \"..\", \"evals\", \"registry\")\n",
    "output_path = os.path.join(registry_path, \"data\", \"battles\")\n",
    "os.makedirs(output_path, exist_ok=True)\n",
    "samples_path = os.path.join(registry_path, \"data\", \"dataset\", \"samples.jsonl\")\n",
    "\n",
    "registry_yaml = {}\n",
    "\n",
    "registry_yaml[\"battles\"] = {\n",
    "    \"id\": \"battles.test.v1\",\n",
    "    \"metrics\": [\"accuracy\"]\n",
    "}\n",
    "registry_yaml[f\"battles.test.v1\"] = {\n",
    "    \"class\": \"evals.elsuite.modelgraded.classify:ModelBasedClassify\",\n",
    "    \"args\": {\n",
    "        \"samples_jsonl\": samples_path,\n",
    "        \"modelgraded_spec\": \"battle\"\n",
    "    }\n",
    "}\n",
    "os.makedirs(os.path.join(registry_path, \"evals\"), exist_ok=True)\n",
    "with open(os.path.join(registry_path, \"evals\", \"battle.yaml\"), \"w\") as f:\n",
    "    yaml.dump(registry_yaml, f)"
   ]
  },
  {
   "cell_type": "code",
   "execution_count": 7,
   "metadata": {},
   "outputs": [
    {
     "name": "stdout",
     "output_type": "stream",
     "text": [
      "[2024-08-04 17:48:50,125] [registry.py:271] Loading registry from /opt/anaconda3/lib/python3.12/site-packages/evals/registry/evals\n",
      "[2024-08-04 17:48:51,215] [registry.py:271] Loading registry from /Users/janvotava/.evals/evals\n",
      "[2024-08-04 17:48:51,221] [oaieval.py:215] \u001b[1;35mRun started: 240804154851V3NZXENK\u001b[0m\n",
      "[2024-08-04 17:48:51,377] [eval.py:36] Evaluating 3 samples\n",
      "[2024-08-04 17:48:51,390] [eval.py:144] Running in threaded mode with 10 threads!\n",
      "100%|█████████████████████████████████████████████| 3/3 [00:01<00:00,  2.65it/s]\n",
      "[2024-08-04 17:48:52,576] [oaieval.py:275] Found 3/3 sampling events with usage data\n",
      "[2024-08-04 17:48:52,577] [oaieval.py:283] Token usage from 3 sampling events:\n",
      "completion_tokens: 14\n",
      "prompt_tokens: 80\n",
      "total_tokens: 94\n",
      "[2024-08-04 17:48:52,579] [record.py:371] Final report: {'accuracy': 0.6666666666666666, 'boostrap_std': 0.47021271782034985, 'usage_completion_tokens': 14, 'usage_prompt_tokens': 80, 'usage_total_tokens': 94}. Logged to /tmp/evallogs/240804154851V3NZXENK_gpt-3.5-turbo_test-match.jsonl\n",
      "[2024-08-04 17:48:52,584] [oaieval.py:233] Final report:\n",
      "[2024-08-04 17:48:52,584] [oaieval.py:235] accuracy: 0.6666666666666666\n",
      "[2024-08-04 17:48:52,584] [oaieval.py:235] boostrap_std: 0.47021271782034985\n",
      "[2024-08-04 17:48:52,584] [oaieval.py:235] usage_completion_tokens: 14\n",
      "[2024-08-04 17:48:52,584] [oaieval.py:235] usage_prompt_tokens: 80\n",
      "[2024-08-04 17:48:52,584] [oaieval.py:235] usage_total_tokens: 94\n",
      "[2024-08-04 17:48:52,644] [record.py:360] Logged 6 rows of events to /tmp/evallogs/240804154851V3NZXENK_gpt-3.5-turbo_test-match.jsonl: insert_time=12.496ms\n"
     ]
    }
   ],
   "source": [
    "# This will generate a JSONL which will record samples and logs and store it in /tmp/evallogs\n",
    "!oaieval gpt-3.5-turbo test-match"
   ]
  },
  {
   "cell_type": "code",
   "execution_count": null,
   "metadata": {},
   "outputs": [],
   "source": [
    "# How to process the log events generated by oaieval\n",
    "\n",
    "log_name = \"battle\"\n",
    "events = f\"/tmp/evallogs/{log_name}\"\n",
    "\n",
    "with open(events, \"r\") as f:\n",
    "    events_df = pd.read_json(f, lines=True)"
   ]
  },
  {
   "cell_type": "code",
   "execution_count": null,
   "metadata": {},
   "outputs": [],
   "source": [
    "import matplotlib.pyplot as plt\n",
    "\n",
    "# your list of scores\n",
    "scores = matches_df['sacrebleu_sentence_score']\n",
    "\n",
    "# define the threshold scores as a range from the minimum to the maximum score, in increments of 5\n",
    "thresholds = range(int(min(scores)), int(max(scores)) + 5, 5)\n",
    "\n",
    "# count the number of scores above and below each threshold\n",
    "above_counts = [len([score for score in scores if score >= threshold]) for threshold in thresholds]\n",
    "\n",
    "# plot the counts as a step function\n",
    "plt.step(thresholds, above_counts, label='number of samples withabove')\n",
    "\n",
    "# set the x and y labels\n",
    "plt.xlabel('sacrebleu threshold')\n",
    "plt.ylabel('number of samples w/ score > threshold')\n",
    "\n",
    "# show the plot\n",
    "plt.show()"
   ]
  },
  {
   "cell_type": "code",
   "execution_count": null,
   "metadata": {},
   "outputs": [],
   "source": [
    "# Inspect samples\n",
    "for i, r in pd.json_normalize(events_df[events_df.type == \"sampling\"].data).iterrows():\n",
    "    print(f\"Prompt: {r.prompt}\")\n",
    "    print(f\"Sampled: {r.sampled}\")\n",
    "    print(\"-\" * 25)"
   ]
  }
 ],
 "metadata": {
  "kernelspec": {
   "display_name": "Python 3 (ipykernel)",
   "language": "python",
   "name": "python3"
  },
  "language_info": {
   "codemirror_mode": {
    "name": "ipython",
    "version": 3
   },
   "file_extension": ".py",
   "mimetype": "text/x-python",
   "name": "python",
   "nbconvert_exporter": "python",
   "pygments_lexer": "ipython3",
   "version": "3.12.4"
  },
  "toc": {
   "base_numbering": 1,
   "nav_menu": {},
   "number_sections": true,
   "sideBar": true,
   "skip_h1_title": false,
   "title_cell": "Table of Contents",
   "title_sidebar": "Contents",
   "toc_cell": false,
   "toc_position": {},
   "toc_section_display": true,
   "toc_window_display": false
  },
  "vscode": {
   "interpreter": {
    "hash": "fdbe172e46cfba2329a5e8d5b64cdf2d12f4dfd7d9bcea153ecef62d1d51933b"
   }
  }
 },
 "nbformat": 4,
 "nbformat_minor": 2
}
