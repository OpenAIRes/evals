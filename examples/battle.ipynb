{
 "cells": [
  {
   "attachments": {},
   "cell_type": "markdown",
   "metadata": {},
   "source": [
    "## Building a BATTLE Eval"
   ]
  },
  {
   "cell_type": "code",
   "execution_count": 15,
   "metadata": {},
   "outputs": [],
   "source": [
    "file_name = \"dataset\"\n",
    "model = \"gpt-3.5-turbo\"\n",
    "choices = \"user\"                     # options: user, ai\n",
    "num_few_shot = 0\n",
    "initial_message = [{\"role\": \"user\", \"content\": \"\"}]\n",
    "roles = \"user\"                      # options: system-user, system, user\n",
    "battles_generation = \"complete-chat\"        # options: dense, only-new, complete-chat\n",
    "\n",
    "#!cd evals\n",
    "#!git lfs fetch --all\n",
    "#!git lfs pull"
   ]
  },
  {
   "cell_type": "code",
   "execution_count": 16,
   "metadata": {},
   "outputs": [],
   "source": [
    "import os\n",
    "from openai import OpenAI\n",
    "import pandas as pd\n",
    "import yaml\n",
    "from IPython.display import display_markdown\n",
    "import copy\n",
    "\n",
    "client = OpenAI()\n",
    "#import datetime\n",
    "#from dotenv import load_dotenv\n",
    "\n",
    "#load_dotenv()  # Load environment variables from .env file\n",
    "\n",
    "#api_key = os.environ.get(\"OPENAI_API_KEY\")\n",
    "\n",
    "# Install Evals if you haven't already\n",
    "# %pip install -e ../.\n",
    "# pip install --upgrade openai\n",
    "# %pip install pandas\n"
   ]
  },
  {
   "cell_type": "code",
   "execution_count": 17,
   "metadata": {},
   "outputs": [],
   "source": [
    "# Paths. Assuming this notebook is in examples/\n",
    "\n",
    "evals_path = os.path.join(os.getcwd(), \"..\", \"evals\")\n",
    "\n",
    "registry_path = os.path.join(evals_path, \"registry\", \"evals\", \"battles.yaml\")\n",
    "\n",
    "data_path = os.path.join(evals_path, \"registry\", \"data\", \"battles\")\n",
    "os.makedirs(data_path, exist_ok=True)\n",
    "data_path = os.path.join(data_path, \"samples.jsonl\")\n",
    "\n",
    "json_logs_path = os.path.join(os.getcwd(), \"logs\")\n",
    "os.makedirs(json_logs_path, exist_ok=True)\n",
    "json_logs_path = os.path.join(json_logs_path, \"logs\")\n",
    "\n",
    "df_path = os.path.join(evals_path, \"evallogs\", \"df\")\n",
    "os.makedirs(df_path, exist_ok=True)\n",
    "dataset_path = os.path.join(df_path, file_name)"
   ]
  },
  {
   "cell_type": "code",
   "execution_count": 18,
   "metadata": {},
   "outputs": [],
   "source": [
    "# Registry yaml\n",
    "\n",
    "registry_yaml = {}\n",
    "\n",
    "registry_yaml[\"battles\"] = {\n",
    "    \"id\": \"battles.test.v1\",\n",
    "    \"metrics\": [\"accuracy\"]\n",
    "}\n",
    "registry_yaml[\"battles.test.v1\"] = {\n",
    "    \"class\": \"evals.elsuite.modelgraded.classify:ModelBasedClassify\",\n",
    "    \"args\": {\n",
    "        \"samples_jsonl\": \"battles/samples.jsonl\",\n",
    "        \"eval_type\": \"cot_classify\",\n",
    "        \"modelgraded_spec\": \"battle\"\n",
    "    }\n",
    "}\n",
    "with open(os.path.join(registry_path), \"w\") as f:\n",
    "    yaml.dump(registry_yaml, f)"
   ]
  },
  {
   "cell_type": "code",
   "execution_count": 19,
   "metadata": {},
   "outputs": [],
   "source": [
    "def best(dataset, memory_limit=False):\n",
    "    #best_message = dataset[dataset[\"Choice\"]==\"Yes\"].iloc[-1][\"Instruction1\"]\n",
    "    #best_response = dataset[dataset[\"Choice\"]==\"Yes\"].iloc[-1][\"Response1\"]\n",
    "    if dataset.iloc[-1][\"Choice\"] == \"Yes\":\n",
    "        best_content = dataset.iloc[-1][\"Instruction1\"]\n",
    "        best_response = dataset.iloc[-1][\"Response1\"]\n",
    "    else:\n",
    "        best_content = dataset.iloc[-1][\"Instruction2\"]\n",
    "        best_response = dataset.iloc[-1][\"Response2\"]\n",
    "    if memory_limit:\n",
    "        best_message = [{\"role\": \"user\", \"content\": best_content}]\n",
    "    if not memory_limit: \n",
    "        try:\n",
    "            best_message = dataset[dataset[\"Choice\"]==\"Yes\"].iloc[-1][\"Data\"][\"Full message\"]\n",
    "        except IndexError:\n",
    "            best_message = dataset.iloc[0][\"Data\"][\"Full message\"]\n",
    "    return best_message,best_response"
   ]
  },
  {
   "cell_type": "code",
   "execution_count": 20,
   "metadata": {},
   "outputs": [],
   "source": [
    "# Load data\n",
    "\n",
    "try:\n",
    "    with open(dataset_path, \"r\") as f:\n",
    "        dataset = pd.read_json(f, lines=True)\n",
    "    best_message, best_response = best(dataset)\n",
    "\n",
    "# Or create new data file\n",
    "\n",
    "except FileNotFoundError:\n",
    "    completion = client.chat.completions.create(\n",
    "        messages = initial_message,\n",
    "        model = model,\n",
    "        )\n",
    "    dataset = pd.DataFrame(\n",
    "        [\n",
    "            [\"\", \"\", \"\", \"\", \"\", \"\", {}],\n",
    "            [\"\", completion.choices[0].message.content, \"\", \"\", \"\", \"\", {}]\n",
    "            ], \n",
    "        columns=['Instruction1', 'Response1', 'Instruction2', 'Response2', 'Sampled', 'Choice', 'Data']\n",
    "    ) \n",
    "    dataset.at[0, \"Data\"] = {\"Completion\":completion.to_dict(),\"Full message\":initial_message}\n",
    "candidate_messages = [initial_message]\n",
    "next_candidate_messages = []\n",
    "generation_distance = 0\n",
    "message_in_candidate_messages = 0\n",
    "dataset.to_json(os.path.join(df_path, \"dataset\"), lines=True, orient=\"records\")\n"
   ]
  },
  {
   "cell_type": "code",
   "execution_count": 21,
   "metadata": {},
   "outputs": [],
   "source": [
    "def battle(best_message, best_response, candidate_message):\n",
    "\n",
    "    dataset = [{\"input1\": candidate_message, \"input2\": best_message, \"completion2\":best_response}]\n",
    "\n",
    "    df = pd.DataFrame(dataset)\n",
    "    df.to_json(data_path, orient=\"records\", lines=True)\n",
    "\n",
    "    !oaieval gpt-3.5-turbo battles --record_path logs/logs\n",
    "    \n",
    "    with open(json_logs_path, \"r\") as f:\n",
    "        df = pd.read_json(f, lines=True)\n",
    "\n",
    "    #current_time = datetime.datetime.now()\n",
    "    #formatted_time = current_time.strftime(\"%Y%m%d_%H%M%S\")\n",
    "    #df.to_json(os.path.join(df_path, formatted_time), lines=True, orient=\"records\")\n",
    "\n",
    "    instruction1 = candidate_message[-1][\"content\"]\n",
    "    instruction2 = best_message[-1][\"content\"]\n",
    "\n",
    "    battle_prompt_content = df[\"data\"].iloc[-2][\"prompt\"][0][\"content\"]\n",
    "    response1 = battle_prompt_content.split(\"\\n[Response 1]\\n\",)[1].split(\"\\n\\n[Instruction 2]\\n\")[0]\n",
    "    response1 = response1.replace(\"\\\\'\", \"'\").replace(\"\\\\n\", \"\\n\")\n",
    "    response2 = battle_prompt_content.split(\"\\n[Response 2]\\n\",)[1].split(\"\\n\\n\\nIs the first response better than the second?\")[0]\n",
    "    response2 = response2.replace(\"\\\\'\", \"'\").replace(\"\\\\n\", \"\\n\")\n",
    "    print(f\"Response1: {response1}\")\n",
    "    #print(f\"response2: {response2}\")\n",
    "\n",
    "    sampled = df[\"data\"].iloc[-2][\"sampled\"][0]\n",
    "\n",
    "    choice = df[\"data\"].iloc[-1][\"choice\"]\n",
    "\n",
    "    data = {'Instruction1': instruction1, 'Response1': response1, 'Instruction2': instruction2, 'Response2': response2, 'Sampled': sampled, 'Choice': choice, 'Data': {}}\n",
    "    data = pd.DataFrame([data])\n",
    "    data.at[0, \"Data\"] = df.to_dict()\n",
    "    return data"
   ]
  },
  {
   "cell_type": "code",
   "execution_count": 22,
   "metadata": {},
   "outputs": [],
   "source": [
    "def switch_system_and_user(message):\n",
    "    new_message = []\n",
    "    if message[0][\"role\"] == \"system\":\n",
    "        new_message.append([{\"role\": \"user\", \"content\": message[0][\"content\"]}])\n",
    "    else:\n",
    "        new_message.append([{\"role\": \"system\", \"content\": message[0][\"content\"]}])\n",
    "    return new_message"
   ]
  },
  {
   "cell_type": "code",
   "execution_count": 23,
   "metadata": {},
   "outputs": [],
   "source": [
    "def list_candidate_messages(dataset,generation_distance,roles=\"user\"):\n",
    "    best_message = best(dataset)[0]\n",
    "    best_content = best_message[-1][\"content\"]\n",
    "    last = [best_content]\n",
    "    list_of_contents = [best_content]\n",
    "\n",
    "    next = []\n",
    "    for i in range(generation_distance):\n",
    "        #print (f\"starting level {i}, generation distance {generation_distance}\")\n",
    "        for content in last:\n",
    "            #print(f\"last_up: {last_up}, now {content}\")\n",
    "            next.extend(find_parents(content, dataset))\n",
    "            next.extend(find_children(content, dataset))\n",
    "            \n",
    "        #print (f\"behind for loops\")\n",
    "        list_of_contents.extend(next)\n",
    "        last = next.copy()\n",
    "        #print(f\"endind level {i}\")\n",
    "        \n",
    "    list_of_contents = pd.array(list_of_contents).unique().tolist()\n",
    "    \n",
    "    #best_message_index = list_of_contents.index(best_message[0][content])\n",
    "    #start = max(best_message_index - generation_distance, 0)\n",
    "    #stop = min(len(list_of_contents))\n",
    "    #stop = len(list_of_contents) - 1\n",
    "\n",
    "    messages = []\n",
    "    for content in list_of_contents:\n",
    "        if roles == \"system-user\" or \"user\":\n",
    "            messages.append([{\"role\":\"user\",\"content\":content}])\n",
    "        if (roles == \"system-user\") or (roles == \"system\"):\n",
    "            print(\"Creating message without user role.\")\n",
    "            messages.append([{\"role\":\"system\",\"content\":content}])\n",
    "\n",
    "    return messages"
   ]
  },
  {
   "cell_type": "code",
   "execution_count": 24,
   "metadata": {},
   "outputs": [],
   "source": [
    "def make_x_shot_prompt(dataset,message,num_few_shot):\n",
    "    few_shot_prompt = []\n",
    "    for _, key_battle in dataset[dataset[\"Choice\"]==\"Yes\"].iloc[-num_few_shot:].iterrows():\n",
    "        few_shot_prompt.append({\"role\": \"system\", \"content\": key_battle[\"Instruction1\"], \"name\": \"example_user\"})\n",
    "        few_shot_prompt.append({\"role\": \"system\", \"content\": key_battle[\"Response1\"], \"name\": \"example_assistant\"})\n",
    "    message = few_shot_prompt + message\n",
    "    return message"
   ]
  },
  {
   "cell_type": "code",
   "execution_count": 25,
   "metadata": {},
   "outputs": [],
   "source": [
    "def transform_roles(chat,assistant_transform_type = \"user-assistant\"):\n",
    "    prompt_messages = copy.deepcopy(chat)\n",
    "    if assistant_transform_type == \"user-assistant\":\n",
    "      i = 1\n",
    "      while i <= len(prompt_messages) and prompt_messages[-i][\"role\"] != \"system\":\n",
    "        if i%2 == 1:\n",
    "          prompt_messages[-i][\"role\"] = \"user\"\n",
    "        else:\n",
    "          prompt_messages[-i][\"role\"] = \"assistant\"\n",
    "        i += 1\n",
    "    else:\n",
    "      for prompt_message in prompt_messages:\n",
    "        if prompt_message[\"role\"] == \"assistant\":\n",
    "          prompt_message[\"role\"] = assistant_transform_type\n",
    "    return prompt_messages"
   ]
  },
  {
   "cell_type": "code",
   "execution_count": 26,
   "metadata": {},
   "outputs": [],
   "source": [
    "def user_choice_prompt(candidate_message,n,best_message,best_response):\n",
    "\n",
    "    prompt = \"You are comparing two responses to the following two instructions.\"\n",
    "\n",
    "    prompt += \"\\n\\n[Instruction 1]\\n\"\n",
    "    prompt += candidate_message[-1][\"content\"]\n",
    "\n",
    "    prompt += \"\\n\\n[Response 1]\\n\"\n",
    "    completion = client.chat.completions.create(\n",
    "        messages = candidate_message,\n",
    "        model = model,\n",
    "        )\n",
    "    response1 = completion.choices[0].message.content\n",
    "    prompt += response1\n",
    "    \n",
    "    prompt += \"\\n\\n[Instruction 2]\\n\"\n",
    "    best_content = best_message[-1][\"content\"]\n",
    "    prompt += best_content\n",
    "\n",
    "    prompt += \"\\n\\n[Response 2]\\n\"\n",
    "    prompt += best_response\n",
    "\n",
    "    prompt += \"\\n\\n\\nIs the first response better than the second? You must provide one answer based on your subjective view.\"\n",
    "\n",
    "    data = {'Instruction1': candidate_message[-1][\"content\"], 'Response1': response1, 'Instruction2': best_content, 'Response2': best_response, 'Sampled': \"\", 'Choice': \"\", 'Data': {}}\n",
    "    data = pd.DataFrame([data])\n",
    "    data.at[0, \"Data\"] = {\"Completion\":completion.to_dict(),\"Full message\":candidate_message,\"Parent\":n}\n",
    "\n",
    "    display_markdown(prompt, raw=True)\n",
    "    return data,candidate_messages,message_in_candidate_messages,generation_distance"
   ]
  },
  {
   "cell_type": "code",
   "execution_count": 27,
   "metadata": {},
   "outputs": [],
   "source": [
    "def user_choice_prompt_old(candidate_messages,message_in_candidate_messages,dataset, generation_distance, roles, battles_generation,num_few_shot):\n",
    "\n",
    "    prompt = \"You are comparing two responses to the following two instructions.\"\n",
    "\n",
    "    prompt += \"\\n\\n[Instruction 1]\\n\"\n",
    "    if battles_generation == \"dense\":\n",
    "        if message_in_candidate_messages < len(candidate_messages):\n",
    "            candidate_message = candidate_messages[message_in_candidate_messages]\n",
    "            message_in_candidate_messages += 1\n",
    "        else:\n",
    "            candidate_messages = list_candidate_messages(dataset, generation_distance, roles)\n",
    "            generation_distance += 1\n",
    "            candidate_message = candidate_messages[0]\n",
    "            message_in_candidate_messages = 1\n",
    "            print(f\"candidate messages listed, generation distance: {generation_distance}, number of candidate messages: {len(candidate_messages)}\")\n",
    "    if battles_generation == \"complete-chat\":\n",
    "        chat = best(dataset)[0] + [{'role': 'assistant', 'content': best(dataset)[1]}]\n",
    "        candidate_message = transform_roles(chat)\n",
    "    if num_few_shot > 0:\n",
    "        candidate_message = make_x_shot_prompt(dataset,candidate_message,num_few_shot)\n",
    "    prompt += candidate_message[-1][\"content\"]\n",
    "\n",
    "    prompt += \"\\n\\n[Response 1]\\n\"\n",
    "    completion = client.chat.completions.create(\n",
    "        messages = candidate_message,\n",
    "        model = model,\n",
    "        )\n",
    "    response1 = completion.choices[0].message.content\n",
    "    prompt += response1\n",
    "    \n",
    "    prompt += \"\\n\\n[Instruction 2]\\n\"\n",
    "    best_content = best(dataset)[0][-1][\"content\"]\n",
    "    prompt += best_content\n",
    "\n",
    "    prompt += \"\\n\\n[Response 2]\\n\"\n",
    "    prompt += best(dataset)[1]\n",
    "\n",
    "    prompt += \"\\n\\n\\nIs the first response better than the second? You must provide one answer based on your subjective view.\"\n",
    "\n",
    "    data = {'Instruction1': candidate_message[-1][\"content\"], 'Response1': response1, 'Instruction2': best_content, 'Response2': best(dataset)[1], 'Sampled': \"\", 'Choice': \"\", 'Data': {}}\n",
    "    data = pd.DataFrame([data])\n",
    "    data.at[0, \"Data\"] = {\"Completion\":completion.to_dict(),\"Full message\":candidate_message}\n",
    "\n",
    "    display_markdown(prompt, raw=True)\n",
    "    return data,candidate_messages,message_in_candidate_messages,generation_distance"
   ]
  },
  {
   "cell_type": "code",
   "execution_count": 28,
   "metadata": {},
   "outputs": [
    {
     "data": {
      "text/plain": [
       "'if choices == \"user\":\\n    data,candidate_messages,message_in_candidate_messages,generation_distance = user_choice_prompt_old(\\n        candidate_messages,\\n        message_in_candidate_messages,\\n        dataset,\\n        generation_distance,\\n        roles,\\n        battles_generation,\\n        num_few_shot)'"
      ]
     },
     "execution_count": 28,
     "metadata": {},
     "output_type": "execute_result"
    }
   ],
   "source": [
    "\"\"\"if choices == \"user\":\n",
    "    data,candidate_messages,message_in_candidate_messages,generation_distance = user_choice_prompt_old(\n",
    "        candidate_messages,\n",
    "        message_in_candidate_messages,\n",
    "        dataset,\n",
    "        generation_distance,\n",
    "        roles,\n",
    "        battles_generation,\n",
    "        num_few_shot)\"\"\""
   ]
  },
  {
   "cell_type": "code",
   "execution_count": 29,
   "metadata": {},
   "outputs": [],
   "source": [
    "def continue_chat(n, dataset_path):\n",
    "    with open(dataset_path, \"r\") as f:\n",
    "        dataset = pd.read_json(f, lines=True)\n",
    "    last_response = dataset.iloc[n][\"Response1\"]\n",
    "    chat = dataset.iloc[n][\"Data\"][\"Full message\"] + [{'role': 'assistant', 'content': last_response}]\n",
    "    candidate_message = transform_roles(chat)\n",
    "    last_response = dataset.iloc[n][\"Response1\"]\n",
    "    parent = n\n",
    "    data = user_choice_prompt(candidate_message,parent,candidate_message,last_response)[0]\n",
    "    return data"
   ]
  },
  {
   "cell_type": "code",
   "execution_count": 30,
   "metadata": {},
   "outputs": [],
   "source": [
    "def improve_chat(n, dataset_path):\n",
    "    with open(dataset_path, \"r\") as f:\n",
    "        dataset = pd.read_json(f, lines=True)\n",
    "    candidate_message = dataset.iloc[n][\"Data\"][\"Full message\"]\n",
    "    last_response = dataset.iloc[n][\"Response1\"]\n",
    "    parent = dataset.iloc[n][\"Data\"][\"Parent\"]\n",
    "    data = user_choice_prompt(candidate_message,parent,candidate_message,last_response)[0]\n",
    "    return data"
   ]
  },
  {
   "cell_type": "code",
   "execution_count": null,
   "metadata": {},
   "outputs": [],
   "source": [
    "dataset.iloc[-1:]"
   ]
  },
  {
   "cell_type": "code",
   "execution_count": null,
   "metadata": {},
   "outputs": [],
   "source": [
    "n = 10\n",
    "data = improve_chat(n,dataset_path)"
   ]
  },
  {
   "cell_type": "code",
   "execution_count": null,
   "metadata": {},
   "outputs": [],
   "source": [
    "choice = \"No\"\n",
    "choice = \"Yes\"\n",
    "data.at[0, \"Choice\"] = choice\n",
    "print(f\"Your answer:{choice}\")\n",
    "if choice == \"Yes\":\n",
    "    print(f\"New best message and response!\")\n",
    "    if battles_generation == \"dense\":\n",
    "        generation_distance = 0\n",
    "dataset = pd.concat([dataset, data],ignore_index=True)\n",
    "dataset.to_json(os.path.join(df_path, \"dataset\"), lines=True, orient=\"records\")\n",
    "#data,candidate_messages,message_in_candidate_messages,generation_distance = user_choice_prompt_old(candidate_messages,message_in_candidate_messages,dataset,generation_distance,roles,battles_generation,num_few_shot)"
   ]
  },
  {
   "cell_type": "code",
   "execution_count": null,
   "metadata": {},
   "outputs": [],
   "source": [
    "dataset.to_json(os.path.join(df_path, \"dataset\"), lines=True, orient=\"records\")\n"
   ]
  },
  {
   "cell_type": "code",
   "execution_count": null,
   "metadata": {},
   "outputs": [],
   "source": [
    "def is_parent(parent,response,child,):\n",
    "    if parent[\"content\"] == \"\":\n",
    "        parent = []\n",
    "    lp = len(parent)\n",
    "    lch = len(child)\n",
    "    if lp != lch + 1:\n",
    "        return False\n",
    "    if msg_to_content(child)[:l+1] != msg_to_content(parent).append(response):\n",
    "        return False\n",
    "    else:\n",
    "        return True"
   ]
  },
  {
   "cell_type": "code",
   "execution_count": null,
   "metadata": {},
   "outputs": [],
   "source": [
    "def msg_to_content(msg):\n",
    "    content = []\n",
    "    for line in msg:\n",
    "        content.append(line[\"content\"])\n",
    "    return content"
   ]
  },
  {
   "cell_type": "code",
   "execution_count": null,
   "metadata": {},
   "outputs": [],
   "source": [
    "def best_msg_level_up(dataset, msg, best_chat):\n",
    "    level = 0 if best_chat.empty else len(msg)\n",
    "    filtered_dataset = dataset[\n",
    "        (dataset[\"Choice\"] != \"No\") & \n",
    "        (dataset[\"Data\"].apply(lambda x: len(x[\"Full message\"])) == level + 1) &\n",
    "        (dataset[\"Data\"].apply(lambda x: is_parent(x[\"Full message\"], msg, dataset)))\n",
    "        ] \n",
    "    if len(filtered_dataset) > 1:\n",
    "        #print(filtered_dataset)\n",
    "        filtered_dataset = filtered_dataset.iloc[[-1]]\n",
    "        print(filtered_dataset)\n",
    "    if filtered_dataset.empty:\n",
    "        return best_chat\n",
    "    best_chat = pd.concat([best_chat, filtered_dataset],ignore_index=True)\n",
    "    #try:\n",
    "    #print(filtered_dataset.iloc[0])\n",
    "    msg = filtered_dataset.iloc[0][\"Data\"][\"Full message\"]\n",
    "    #except:\n",
    "        #print(\"Returning filtered dataset\")\n",
    "        #return filtered_dataset.iloc[0]\n",
    "    best_msg_level_up(dataset, msg, best_chat)\n",
    "    return best_chat\n",
    "    "
   ]
  },
  {
   "cell_type": "code",
   "execution_count": null,
   "metadata": {},
   "outputs": [],
   "source": [
    "best_chat = best_msg_level_up(dataset, initial_message, pd.DataFrame([],columns=dataset.columns))"
   ]
  },
  {
   "cell_type": "code",
   "execution_count": null,
   "metadata": {},
   "outputs": [],
   "source": [
    "dataset.filter([1,3],axis=0)"
   ]
  },
  {
   "cell_type": "code",
   "execution_count": 34,
   "metadata": {},
   "outputs": [],
   "source": [
    "def parent(n,dataset=dataset):\n",
    "    if n == 0:\n",
    "        return None\n",
    "    return dataset.iloc[n][\"Data\"][\"Parent\"]"
   ]
  },
  {
   "cell_type": "code",
   "execution_count": 35,
   "metadata": {},
   "outputs": [],
   "source": [
    "def children(n, dataset=dataset):\n",
    "    filtered_dataset = dataset[dataset[\"Data\"].apply(lambda x: x[\"Parent\"] == n)]\n",
    "    return filtered_dataset.index.to_list()"
   ]
  },
  {
   "cell_type": "code",
   "execution_count": 79,
   "metadata": {},
   "outputs": [],
   "source": [
    "def ancestors(n,dataset=dataset):\n",
    "    ancestors = []\n",
    "    while n > 0:\n",
    "        ancestors.append(parent(n))\n",
    "        n = parent(n)\n",
    "    ancestors.reverse()\n",
    "    return ancestors"
   ]
  },
  {
   "cell_type": "code",
   "execution_count": 37,
   "metadata": {},
   "outputs": [],
   "source": [
    "def descendants(n,dataset=dataset):\n",
    "    def descendants_recursion(n,l,dataset=dataset):\n",
    "        l.extend(children(n))\n",
    "        for child in children(n):\n",
    "            descendants_recursion(child,l)\n",
    "        return l\n",
    "    l = []\n",
    "    return descendants_recursion(n,l)"
   ]
  },
  {
   "cell_type": "code",
   "execution_count": null,
   "metadata": {},
   "outputs": [],
   "source": [
    "if choices == \"ai\":\n",
    "    for candidate_message in candidate_messages:\n",
    "        if num_few_shot > 0:\n",
    "            candidate_message = make_x_shot_prompt(dataset,candidate_message,num_few_shot)\n",
    "        data = battle(best_message, best_response, candidate_message)\n",
    "        dataset = pd.concat([dataset, data],ignore_index=True)\n",
    "        dataset.to_json(os.path.join(df_path, \"dataset\"), lines=True, orient=\"records\")\n",
    "        if data[\"Choice\"].iloc[0] == \"Yes\":\n",
    "            best_message = candidate_message\n",
    "            best_response = data[\"Response1\"].iloc[0]\n",
    "            print(f\"New best message:{best_message}\")\n",
    "            if battles_generation == \"dense\":\n",
    "                generation_distance = 0\n",
    "\n",
    "        print(f\"Instruction1: {candidate_message[-1][\"content\"]}\")\n",
    "\n",
    "        if battles_generation == \"only-new\":\n",
    "            new_message = [{\"role\": candidate_message[0][\"role\"], \"content\":data[\"Response1\"].iloc[0]}]\n",
    "            if new_message not in next_candidate_messages:\n",
    "                next_candidate_messages.append(new_message)\n",
    "                if roles == \"system-user\":\n",
    "                    next_candidate_messages.append(switch_system_and_user(new_message))\n",
    "\n",
    "    if battles_generation == \"only-new\":\n",
    "        candidate_messages = next_candidate_messages\n",
    "        next_candidate_messages = []\n",
    "    if battles_generation == \"dense\":\n",
    "        #print(\"going to list candidate messages\")\n",
    "        candidate_messages = list_candidate_messages(dataset, best_message, generation_distance, roles)\n",
    "        generation_distance += 1\n",
    "        #print(\"candidate messages listed\")\n",
    "    print(f\"all done, generation distance: {generation_distance}, number of candidate messages: {len(candidate_messages)}\")"
   ]
  },
  {
   "cell_type": "code",
   "execution_count": 31,
   "metadata": {},
   "outputs": [],
   "source": [
    "filtered_dataset = dataset[(dataset[\"Choice\"] != \"No\")]\n",
    "best_responses = set(filtered_dataset.index)"
   ]
  },
  {
   "cell_type": "code",
   "execution_count": 125,
   "metadata": {},
   "outputs": [],
   "source": [
    "def display_chat(chat):\n",
    "    for row in dataset.filter(chat,axis=0).iterrows():\n",
    "        display_markdown(row[0],raw=True)\n",
    "        display_markdown(row[1].iloc[1],raw=True)"
   ]
  },
  {
   "cell_type": "code",
   "execution_count": 129,
   "metadata": {},
   "outputs": [
    {
     "data": {
      "text/markdown": []
     },
     "metadata": {},
     "output_type": "display_data"
    },
    {
     "data": {
      "text/markdown": []
     },
     "metadata": {},
     "output_type": "display_data"
    },
    {
     "data": {
      "text/markdown": [
       "1"
      ]
     },
     "metadata": {},
     "output_type": "display_data"
    },
    {
     "data": {
      "text/markdown": [
       "Hello! How can I assist you today?"
      ]
     },
     "metadata": {},
     "output_type": "display_data"
    },
    {
     "data": {
      "text/markdown": [
       "2"
      ]
     },
     "metadata": {},
     "output_type": "display_data"
    },
    {
     "data": {
      "text/markdown": [
       "Hello! I'm here to help you with any questions you might have or provide information on a variety of topics. Feel free to ask me anything!"
      ]
     },
     "metadata": {},
     "output_type": "display_data"
    },
    {
     "data": {
      "text/markdown": [
       "3"
      ]
     },
     "metadata": {},
     "output_type": "display_data"
    },
    {
     "data": {
      "text/markdown": [
       "Thank you for offering your help! Is there anything specific you would like to know more about or discuss today?"
      ]
     },
     "metadata": {},
     "output_type": "display_data"
    },
    {
     "data": {
      "text/markdown": [
       "4"
      ]
     },
     "metadata": {},
     "output_type": "display_data"
    },
    {
     "data": {
      "text/markdown": [
       "Thank you for asking! I would be happy to talk about various topics, such as technology, science, history, language learning, travel, and more. If you have any specific questions or interests, feel free to share them!"
      ]
     },
     "metadata": {},
     "output_type": "display_data"
    },
    {
     "data": {
      "text/markdown": [
       "5"
      ]
     },
     "metadata": {},
     "output_type": "display_data"
    },
    {
     "data": {
      "text/markdown": [
       "That sounds like a wide range of interesting topics to explore! If you have any questions or if you would like to delve deeper into any of these subjects, please let me know. I'm here to provide information and engage in discussions with you."
      ]
     },
     "metadata": {},
     "output_type": "display_data"
    },
    {
     "data": {
      "text/markdown": [
       "6"
      ]
     },
     "metadata": {},
     "output_type": "display_data"
    },
    {
     "data": {
      "text/markdown": [
       "Thank you for your willingness to engage in discussions! Let's start with a broad question: Do you have any insights into current technology trends or developments that you find particularly fascinating or noteworthy?"
      ]
     },
     "metadata": {},
     "output_type": "display_data"
    },
    {
     "data": {
      "text/markdown": [
       "7"
      ]
     },
     "metadata": {},
     "output_type": "display_data"
    },
    {
     "data": {
      "text/markdown": [
       "Certainly! One of the most notable technology trends in recent years is the rapid advancement of artificial intelligence (AI) and machine learning. AI is being integrated into various industries, including healthcare, finance, transportation, and more, to improve efficiency, productivity, and decision-making processes.\n",
       "\n",
       "Another significant trend is the rise of 5G technology, which promises faster and more reliable wireless connectivity. This development is expected to have a profound impact on the Internet of Things (IoT), autonomous vehicles, smart cities, and other connected devices.\n",
       "\n",
       "Additionally, advancements in quantum computing, augmented reality (AR) and virtual reality (VR) technology, cybersecurity, and sustainable energy solutions are also shaping the future of technology.\n",
       "\n",
       "These trends are not only fascinating but also have the potential to transform the way we live, work, and interact with the world around us."
      ]
     },
     "metadata": {},
     "output_type": "display_data"
    },
    {
     "data": {
      "text/markdown": [
       "8"
      ]
     },
     "metadata": {},
     "output_type": "display_data"
    },
    {
     "data": {
      "text/markdown": [
       "Those are indeed fascinating developments! Artificial intelligence, 5G technology, quantum computing, AR/VR, cybersecurity, and sustainable energy solutions are all key areas that are driving innovation and shaping the future of technology. Each of these trends offers exciting opportunities and challenges that will likely have a significant impact on society, economy, and beyond.\n",
       "\n",
       "Do you have a particular interest in any of these technology trends, or is there a specific aspect you would like to discuss further?"
      ]
     },
     "metadata": {},
     "output_type": "display_data"
    },
    {
     "data": {
      "text/markdown": [
       "9"
      ]
     },
     "metadata": {},
     "output_type": "display_data"
    },
    {
     "data": {
      "text/markdown": [
       "I find all of these technology trends to be incredibly intriguing and important for the future. If you would like to delve deeper into any of these areas, I would be happy to provide more information or discuss specific aspects of interest.\n",
       "\n",
       "Whether you have questions about how these technologies work, their potential applications, current challenges, or future implications, feel free to let me know. I'm here to help facilitate a deeper understanding of these exciting developments in the world of technology."
      ]
     },
     "metadata": {},
     "output_type": "display_data"
    },
    {
     "data": {
      "text/markdown": [
       "10"
      ]
     },
     "metadata": {},
     "output_type": "display_data"
    },
    {
     "data": {
      "text/markdown": [
       "Thank you for your willingness to delve deeper into these technology trends! Let's explore the topic of artificial intelligence (AI) further. AI has made significant strides in recent years, with applications ranging from virtual assistants like Siri and Alexa to autonomous vehicles, medical diagnosis, and personalized recommendations.\n",
       "\n",
       "One aspect of AI that is particularly fascinating is deep learning, a subset of machine learning that uses neural networks to model complex patterns and make decisions based on data. Deep learning has shown great promise in areas such as computer vision, natural language processing, and voice recognition.\n",
       "\n",
       "Do you have any specific questions about AI or deep learning that you would like to discuss further? Or is there another aspect of technology that you are curious about exploring in more detail?"
      ]
     },
     "metadata": {},
     "output_type": "display_data"
    },
    {
     "data": {
      "text/markdown": [
       "11"
      ]
     },
     "metadata": {},
     "output_type": "display_data"
    },
    {
     "data": {
      "text/markdown": [
       "I'm glad to hear that you're interested in exploring more about artificial intelligence and deep learning! These are indeed fascinating areas of technology that have the potential to revolutionize various industries and vastly improve the way we interact with technology.\n",
       "\n",
       "If you would like to delve deeper into the principles of deep learning, how neural networks work, the current applications of AI in different fields, or any specific examples of AI technology, I would be more than happy to provide more information and engage in a discussion on these topics.\n",
       "\n",
       "Additionally, if there are any other areas of technology or specific topics you would like to explore, please feel free to let me know, and we can continue our discussion from there. I'm here to help answer your questions and provide insights on a wide range of subjects."
      ]
     },
     "metadata": {},
     "output_type": "display_data"
    },
    {
     "data": {
      "text/markdown": [
       "12"
      ]
     },
     "metadata": {},
     "output_type": "display_data"
    },
    {
     "data": {
      "text/markdown": [
       "Thank you for your willingness to provide more information on artificial intelligence and deep learning! As we continue our discussion on these topics, I would like to explore the applications of AI in healthcare. AI has the potential to transform healthcare by improving patient outcomes, optimizing treatment plans, and enhancing diagnostic accuracy.\n",
       "\n",
       "For example, AI-powered medical imaging tools can assist healthcare providers in diagnosing diseases such as cancer, cardiovascular conditions, and neurological disorders more effectively. AI algorithms can analyze medical images, detect abnormalities, and provide insights to support clinical decision-making.\n",
       "\n",
       "Moreover, AI-based predictive analytics can help healthcare organizations identify at-risk patients, personalize treatment plans, and improve patient management. By leveraging AI, healthcare providers can make more informed decisions, deliver better care, and ultimately enhance the overall healthcare experience.\n",
       "\n",
       "Would you like to explore any specific applications of AI in healthcare, dive deeper into a particular aspect of AI technology, or discuss another topic related to technology or any other field of interest? I'm here to provide insights and engage in a meaningful discussion with you."
      ]
     },
     "metadata": {},
     "output_type": "display_data"
    },
    {
     "data": {
      "text/markdown": [
       "13"
      ]
     },
     "metadata": {},
     "output_type": "display_data"
    },
    {
     "data": {
      "text/markdown": [
       "I'm delighted to delve deeper into the applications of AI in healthcare with you! The integration of artificial intelligence into the healthcare sector is indeed revolutionizing the way medical professionals diagnose, treat, and care for patients. The potential for AI to improve patient outcomes, enhance diagnostic accuracy, and personalize treatment plans is truly transformative.\n",
       "\n",
       "AI applications in healthcare extend beyond medical imaging and predictive analytics to include areas such as personalized medicine, drug discovery, remote patient monitoring, and virtual health assistants. These technologies offer immense potential to streamline healthcare operations, reduce costs, and improve patient experiences.\n",
       "\n",
       "If you have specific questions about AI applications in healthcare, would like to discuss a particular aspect of AI technology in the medical field, or explore other topics related to technology or any other area of interest, please feel free to share your thoughts. I'm here to provide further insights, discuss relevant topics, and engage in a meaningful conversation with you."
      ]
     },
     "metadata": {},
     "output_type": "display_data"
    },
    {
     "data": {
      "text/markdown": [
       "14"
      ]
     },
     "metadata": {},
     "output_type": "display_data"
    },
    {
     "data": {
      "text/markdown": [
       "I'm glad to see your enthusiasm for exploring the applications of AI in healthcare further! AI has indeed ushered in a new era of innovation in the medical field, with numerous opportunities to enhance patient care, improve clinical outcomes, and drive advancements in healthcare delivery.\n",
       "\n",
       "Personalized medicine, for instance, has been revolutionized by AI algorithms that analyze patient data to tailor treatment plans based on individual genetic, environmental, and lifestyle factors. This approach allows for more targeted and effective interventions, leading to better patient outcomes and reduced adverse effects.\n",
       "\n",
       "In addition to personalized medicine, AI-driven drug discovery has accelerated the process of identifying new pharmaceutical compounds, predicting drug responses, and optimizing treatment protocols. By leveraging AI tools to analyze vast amounts of data and simulate drug interactions, researchers can expedite the discovery and development of novel therapies for complex diseases.\n",
       "\n",
       "Remote patient monitoring, powered by AI-enabled devices and sensors, enables healthcare providers to remotely track patients' health metrics in real time, allowing for proactive interventions and continuous care management. Virtual health assistants, powered by AI chatbots and virtual agents, provide patients with personalized health information, support, and guidance, enhancing the accessibility and efficiency of healthcare services.\n",
       "\n",
       "If you would like to delve deeper into any of these AI applications in healthcare, explore specific use cases, or discuss other related topics or technological advancements, please let me know. I'm here to provide additional information, engage in discussions, and address any questions you may have."
      ]
     },
     "metadata": {},
     "output_type": "display_data"
    },
    {
     "data": {
      "text/markdown": [
       "15"
      ]
     },
     "metadata": {},
     "output_type": "display_data"
    },
    {
     "data": {
      "text/markdown": [
       "It's truly inspiring to see the profound impact of AI on healthcare and the myriad of ways in which it is revolutionizing patient care, treatment approaches, and medical research. The applications you've highlighted, such as personalized medicine, drug discovery, remote patient monitoring, and virtual health assistants, demonstrate the transformative power of AI in improving healthcare delivery and health outcomes.\n",
       "\n",
       "The intersection of healthcare and AI presents a fascinating landscape of innovation and possibilities that continue to evolve and shape the future of medicine. The advancements in AI technology are paving the way for more efficient, precise, and accessible healthcare solutions that benefit patients, healthcare providers, and the healthcare system as a whole.\n",
       "\n",
       "If you would like to explore specific use cases, such as examples of successful implementations of AI in healthcare, or delve deeper into the technical aspects of AI algorithms and models used in personalized medicine or drug discovery, please let me know. I'm here to provide further insights, facilitate discussions, and address any queries you may have regarding AI applications in healthcare or any other topics you're interested in exploring."
      ]
     },
     "metadata": {},
     "output_type": "display_data"
    },
    {
     "data": {
      "text/markdown": [
       "16"
      ]
     },
     "metadata": {},
     "output_type": "display_data"
    },
    {
     "data": {
      "text/markdown": [
       "I'm glad to hear that you find the intersection of healthcare and AI to be inspiring and impactful! The successful implementations of AI in healthcare underscore the transformative potential of these technologies in revolutionizing patient care, advancing medical research, and improving healthcare outcomes.\n",
       "\n",
       "Examining specific use cases and real-world examples of AI applications in healthcare can provide valuable insights into how these technologies are being leveraged to address challenges, enhance clinical decision-making, and optimize patient care. By exploring the technical aspects of AI algorithms and models used in personalized medicine, drug discovery, and other healthcare applications, we can gain a deeper appreciation for the capabilities and potential of AI in transforming the healthcare landscape.\n",
       "\n",
       "If you have any specific use cases or examples of AI in healthcare that you would like to learn more about, or if you're interested in delving deeper into the technical aspects of AI algorithms in the medical field, please feel free to share your preferences. I'm here to provide detailed information, analyze case studies, and engage in insightful discussions on these topics and more. Let's continue our exploration of AI in healthcare and uncover the innovative solutions that are reshaping the future of medicine."
      ]
     },
     "metadata": {},
     "output_type": "display_data"
    },
    {
     "data": {
      "text/markdown": [
       "17"
      ]
     },
     "metadata": {},
     "output_type": "display_data"
    },
    {
     "data": {
      "text/markdown": [
       "I share your enthusiasm for exploring specific use cases and real-world examples of AI applications in healthcare, as these instances offer valuable insights into the practical impact of AI technologies in transforming patient care and medical practices. By delving into these case studies and examples, we can gain a deeper understanding of how AI is revolutionizing healthcare delivery, improving clinical outcomes, and driving innovation in the medical field.\n",
       "\n",
       "Whether you are interested in learning about AI-driven solutions for medical image analysis, predictive diagnostics, personalized treatment recommendations, or other healthcare applications, I am here to provide detailed information, analyze noteworthy use cases, and engage in insightful discussions on these topics.\n",
       "\n",
       "Furthermore, if you wish to explore the technical aspects of AI algorithms and models used in specific healthcare scenarios, such as machine learning algorithms for disease detection, natural language processing for clinical documentation, or reinforcement learning for treatment optimization, I would be happy to delve into the intricacies of these AI technologies with you.\n",
       "\n",
       "Please feel free to specify any particular use cases or examples of AI in healthcare that you would like to explore further, or if you have any specific areas of interest within the realm of AI technology and its applications in the medical field. I am here to assist you in uncovering the innovative solutions and advancements that are reshaping the future of healthcare through AI. Let's continue our exploration together and delve deeper into the transformative potential of AI in healthcare."
      ]
     },
     "metadata": {},
     "output_type": "display_data"
    },
    {
     "data": {
      "text/markdown": [
       "18"
      ]
     },
     "metadata": {},
     "output_type": "display_data"
    },
    {
     "data": {
      "text/markdown": [
       "I'm delighted to hear your enthusiasm for exploring specific use cases and real-world examples of AI applications in healthcare! By examining these instances, we can gain valuable insights into the practical impact of AI technologies in revolutionizing patient care, enhancing clinical decision-making, and driving innovation in the medical field.\n",
       "\n",
       "AI-driven solutions for medical image analysis, predictive diagnostics, personalized treatment recommendations, and other healthcare applications showcase the transformative power of AI in enhancing healthcare delivery and improving patient outcomes. By diving into these case studies and examples, we can better understand the capabilities of AI in addressing key challenges in healthcare and accelerating advancements in the field.\n",
       "\n",
       "If you would like to explore specific AI-driven use cases or examples in healthcare, such as successful implementations of AI for disease detection, clinical decision support, or health monitoring, please feel free to indicate your preferences. Additionally, if you are interested in delving into the technical aspects of AI algorithms and models used in healthcare scenarios, such as deep learning for medical imaging analysis or natural language processing for clinical data extraction, we can explore these topics in further detail.\n",
       "\n",
       "Together, we can uncover the innovative solutions and advancements that are transforming the future of healthcare through AI. I am here to provide detailed information, analyze notable use cases, and engage in meaningful discussions to deepen our understanding of AI applications in healthcare. Let's continue our exploration and delve into the transformative potential of AI in shaping the future of medicine."
      ]
     },
     "metadata": {},
     "output_type": "display_data"
    },
    {
     "data": {
      "text/markdown": [
       "19"
      ]
     },
     "metadata": {},
     "output_type": "display_data"
    },
    {
     "data": {
      "text/markdown": [
       "I share your excitement for exploring the transformative potential of AI in healthcare through specific use cases, real-world examples, and in-depth discussions on the practical applications of AI technologies in improving patient care, diagnosis, treatment, and overall healthcare outcomes.\n",
       "\n",
       "Delving into successful implementations of AI for disease detection, clinical decision support, personalized treatment recommendations, and other healthcare applications will allow us to gain insights into the ways AI is revolutionizing healthcare delivery and reshaping the patient experience. By examining these use cases, we can better understand the impact of AI in addressing complex healthcare challenges, driving medical innovation, and enhancing the quality of care provided to patients.\n",
       "\n",
       "If you have a specific area of interest within AI applications in healthcare or a particular use case you would like to explore further, please feel free to share your preferences. Whether you are interested in exploring AI-driven solutions for medical imaging analysis, predictive diagnostics, patient monitoring, or AI-powered virtual health assistants, I am here to provide detailed information, analyze case studies, and engage in insightful discussions on these topics.\n",
       "\n",
       "Together, we can continue our exploration of AI in healthcare, uncovering the innovative solutions and advancements that are shaping the future of medicine through the integration of AI technologies. I look forward to furthering our conversation and delving into the transformative potential of AI in driving healthcare innovation and improving patient outcomes. Let's embark on this journey together and discover the profound impact of AI in healthcare."
      ]
     },
     "metadata": {},
     "output_type": "display_data"
    },
    {
     "data": {
      "text/markdown": [
       "20"
      ]
     },
     "metadata": {},
     "output_type": "display_data"
    },
    {
     "data": {
      "text/markdown": [
       "I'm thrilled to join you on this exploration of the transformative potential of AI in healthcare! By delving into specific use cases, real-world examples, and in-depth discussions on the practical applications of AI technologies in improving patient care, diagnosis, treatment, and healthcare outcomes, we can gain a comprehensive understanding of how AI is reshaping the landscape of medical practices and patient experiences.\n",
       "\n",
       "With a focus on successful implementations of AI in disease detection, clinical decision support, personalized treatment recommendations, and other healthcare applications, we can uncover the innovative solutions that are revolutionizing the way healthcare is delivered and experienced. These use cases exemplify how AI is being leveraged to address complex healthcare challenges, enhance medical decision-making, and optimize patient care pathways, ultimately leading to improved health outcomes and enhanced quality of care for patients.\n",
       "\n",
       "Whether you are interested in exploring AI-driven solutions for medical imaging analysis, predictive diagnostics, patient monitoring, or virtual health assistants, I am here to provide detailed insights, analyze case studies, and engage in insightful discussions to deepen our understanding of AI applications in healthcare. Together, we can continue to explore the boundless possibilities and advancements that AI brings to the realm of healthcare, driving innovation, and transforming patient-centered care.\n",
       "\n",
       "I look forward to embarking on this journey with you and unraveling the profound impact of AI in healthcare. Let's continue our exploration and discover the remarkable potential of AI in shaping the future of medicine and healthcare delivery. If there are specific areas of interest or use cases you would like to delve into further, please feel free to share your preferences, and we can explore them together."
      ]
     },
     "metadata": {},
     "output_type": "display_data"
    }
   ],
   "source": [
    "display_chat(best_chats(dataset)[0])"
   ]
  },
  {
   "cell_type": "code",
   "execution_count": 98,
   "metadata": {},
   "outputs": [
    {
     "data": {
      "text/markdown": []
     },
     "metadata": {},
     "output_type": "display_data"
    },
    {
     "data": {
      "text/markdown": []
     },
     "metadata": {},
     "output_type": "display_data"
    },
    {
     "data": {
      "text/markdown": [
       "1"
      ]
     },
     "metadata": {},
     "output_type": "display_data"
    },
    {
     "data": {
      "text/markdown": [
       "Hello! How can I assist you today?"
      ]
     },
     "metadata": {},
     "output_type": "display_data"
    },
    {
     "data": {
      "text/markdown": [
       "2"
      ]
     },
     "metadata": {},
     "output_type": "display_data"
    },
    {
     "data": {
      "text/markdown": [
       "Hello! I'm here to help you with any questions you might have or provide information on a variety of topics. Feel free to ask me anything!"
      ]
     },
     "metadata": {},
     "output_type": "display_data"
    },
    {
     "data": {
      "text/markdown": [
       "3"
      ]
     },
     "metadata": {},
     "output_type": "display_data"
    },
    {
     "data": {
      "text/markdown": [
       "Thank you for offering your help! Is there anything specific you would like to know more about or discuss today?"
      ]
     },
     "metadata": {},
     "output_type": "display_data"
    },
    {
     "data": {
      "text/markdown": [
       "4"
      ]
     },
     "metadata": {},
     "output_type": "display_data"
    },
    {
     "data": {
      "text/markdown": [
       "Thank you for asking! I would be happy to talk about various topics, such as technology, science, history, language learning, travel, and more. If you have any specific questions or interests, feel free to share them!"
      ]
     },
     "metadata": {},
     "output_type": "display_data"
    },
    {
     "data": {
      "text/markdown": [
       "5"
      ]
     },
     "metadata": {},
     "output_type": "display_data"
    },
    {
     "data": {
      "text/markdown": [
       "That sounds like a wide range of interesting topics to explore! If you have any questions or if you would like to delve deeper into any of these subjects, please let me know. I'm here to provide information and engage in discussions with you."
      ]
     },
     "metadata": {},
     "output_type": "display_data"
    },
    {
     "data": {
      "text/markdown": [
       "6"
      ]
     },
     "metadata": {},
     "output_type": "display_data"
    },
    {
     "data": {
      "text/markdown": [
       "Thank you for your willingness to engage in discussions! Let's start with a broad question: Do you have any insights into current technology trends or developments that you find particularly fascinating or noteworthy?"
      ]
     },
     "metadata": {},
     "output_type": "display_data"
    },
    {
     "data": {
      "text/markdown": [
       "7"
      ]
     },
     "metadata": {},
     "output_type": "display_data"
    },
    {
     "data": {
      "text/markdown": [
       "Certainly! One of the most notable technology trends in recent years is the rapid advancement of artificial intelligence (AI) and machine learning. AI is being integrated into various industries, including healthcare, finance, transportation, and more, to improve efficiency, productivity, and decision-making processes.\n",
       "\n",
       "Another significant trend is the rise of 5G technology, which promises faster and more reliable wireless connectivity. This development is expected to have a profound impact on the Internet of Things (IoT), autonomous vehicles, smart cities, and other connected devices.\n",
       "\n",
       "Additionally, advancements in quantum computing, augmented reality (AR) and virtual reality (VR) technology, cybersecurity, and sustainable energy solutions are also shaping the future of technology.\n",
       "\n",
       "These trends are not only fascinating but also have the potential to transform the way we live, work, and interact with the world around us."
      ]
     },
     "metadata": {},
     "output_type": "display_data"
    },
    {
     "data": {
      "text/markdown": [
       "8"
      ]
     },
     "metadata": {},
     "output_type": "display_data"
    },
    {
     "data": {
      "text/markdown": [
       "Those are indeed fascinating developments! Artificial intelligence, 5G technology, quantum computing, AR/VR, cybersecurity, and sustainable energy solutions are all key areas that are driving innovation and shaping the future of technology. Each of these trends offers exciting opportunities and challenges that will likely have a significant impact on society, economy, and beyond.\n",
       "\n",
       "Do you have a particular interest in any of these technology trends, or is there a specific aspect you would like to discuss further?"
      ]
     },
     "metadata": {},
     "output_type": "display_data"
    },
    {
     "data": {
      "text/markdown": [
       "9"
      ]
     },
     "metadata": {},
     "output_type": "display_data"
    },
    {
     "data": {
      "text/markdown": [
       "I find all of these technology trends to be incredibly intriguing and important for the future. If you would like to delve deeper into any of these areas, I would be happy to provide more information or discuss specific aspects of interest.\n",
       "\n",
       "Whether you have questions about how these technologies work, their potential applications, current challenges, or future implications, feel free to let me know. I'm here to help facilitate a deeper understanding of these exciting developments in the world of technology."
      ]
     },
     "metadata": {},
     "output_type": "display_data"
    },
    {
     "data": {
      "text/markdown": [
       "10"
      ]
     },
     "metadata": {},
     "output_type": "display_data"
    },
    {
     "data": {
      "text/markdown": [
       "Thank you for your willingness to delve deeper into these technology trends! Let's explore the topic of artificial intelligence (AI) further. AI has made significant strides in recent years, with applications ranging from virtual assistants like Siri and Alexa to autonomous vehicles, medical diagnosis, and personalized recommendations.\n",
       "\n",
       "One aspect of AI that is particularly fascinating is deep learning, a subset of machine learning that uses neural networks to model complex patterns and make decisions based on data. Deep learning has shown great promise in areas such as computer vision, natural language processing, and voice recognition.\n",
       "\n",
       "Do you have any specific questions about AI or deep learning that you would like to discuss further? Or is there another aspect of technology that you are curious about exploring in more detail?"
      ]
     },
     "metadata": {},
     "output_type": "display_data"
    },
    {
     "data": {
      "text/markdown": [
       "11"
      ]
     },
     "metadata": {},
     "output_type": "display_data"
    },
    {
     "data": {
      "text/markdown": [
       "I'm glad to hear that you're interested in exploring more about artificial intelligence and deep learning! These are indeed fascinating areas of technology that have the potential to revolutionize various industries and vastly improve the way we interact with technology.\n",
       "\n",
       "If you would like to delve deeper into the principles of deep learning, how neural networks work, the current applications of AI in different fields, or any specific examples of AI technology, I would be more than happy to provide more information and engage in a discussion on these topics.\n",
       "\n",
       "Additionally, if there are any other areas of technology or specific topics you would like to explore, please feel free to let me know, and we can continue our discussion from there. I'm here to help answer your questions and provide insights on a wide range of subjects."
      ]
     },
     "metadata": {},
     "output_type": "display_data"
    },
    {
     "data": {
      "text/markdown": [
       "12"
      ]
     },
     "metadata": {},
     "output_type": "display_data"
    },
    {
     "data": {
      "text/markdown": [
       "Thank you for your willingness to provide more information on artificial intelligence and deep learning! As we continue our discussion on these topics, I would like to explore the applications of AI in healthcare. AI has the potential to transform healthcare by improving patient outcomes, optimizing treatment plans, and enhancing diagnostic accuracy.\n",
       "\n",
       "For example, AI-powered medical imaging tools can assist healthcare providers in diagnosing diseases such as cancer, cardiovascular conditions, and neurological disorders more effectively. AI algorithms can analyze medical images, detect abnormalities, and provide insights to support clinical decision-making.\n",
       "\n",
       "Moreover, AI-based predictive analytics can help healthcare organizations identify at-risk patients, personalize treatment plans, and improve patient management. By leveraging AI, healthcare providers can make more informed decisions, deliver better care, and ultimately enhance the overall healthcare experience.\n",
       "\n",
       "Would you like to explore any specific applications of AI in healthcare, dive deeper into a particular aspect of AI technology, or discuss another topic related to technology or any other field of interest? I'm here to provide insights and engage in a meaningful discussion with you."
      ]
     },
     "metadata": {},
     "output_type": "display_data"
    },
    {
     "data": {
      "text/markdown": [
       "13"
      ]
     },
     "metadata": {},
     "output_type": "display_data"
    },
    {
     "data": {
      "text/markdown": [
       "I'm delighted to delve deeper into the applications of AI in healthcare with you! The integration of artificial intelligence into the healthcare sector is indeed revolutionizing the way medical professionals diagnose, treat, and care for patients. The potential for AI to improve patient outcomes, enhance diagnostic accuracy, and personalize treatment plans is truly transformative.\n",
       "\n",
       "AI applications in healthcare extend beyond medical imaging and predictive analytics to include areas such as personalized medicine, drug discovery, remote patient monitoring, and virtual health assistants. These technologies offer immense potential to streamline healthcare operations, reduce costs, and improve patient experiences.\n",
       "\n",
       "If you have specific questions about AI applications in healthcare, would like to discuss a particular aspect of AI technology in the medical field, or explore other topics related to technology or any other area of interest, please feel free to share your thoughts. I'm here to provide further insights, discuss relevant topics, and engage in a meaningful conversation with you."
      ]
     },
     "metadata": {},
     "output_type": "display_data"
    },
    {
     "data": {
      "text/markdown": [
       "14"
      ]
     },
     "metadata": {},
     "output_type": "display_data"
    },
    {
     "data": {
      "text/markdown": [
       "I'm glad to see your enthusiasm for exploring the applications of AI in healthcare further! AI has indeed ushered in a new era of innovation in the medical field, with numerous opportunities to enhance patient care, improve clinical outcomes, and drive advancements in healthcare delivery.\n",
       "\n",
       "Personalized medicine, for instance, has been revolutionized by AI algorithms that analyze patient data to tailor treatment plans based on individual genetic, environmental, and lifestyle factors. This approach allows for more targeted and effective interventions, leading to better patient outcomes and reduced adverse effects.\n",
       "\n",
       "In addition to personalized medicine, AI-driven drug discovery has accelerated the process of identifying new pharmaceutical compounds, predicting drug responses, and optimizing treatment protocols. By leveraging AI tools to analyze vast amounts of data and simulate drug interactions, researchers can expedite the discovery and development of novel therapies for complex diseases.\n",
       "\n",
       "Remote patient monitoring, powered by AI-enabled devices and sensors, enables healthcare providers to remotely track patients' health metrics in real time, allowing for proactive interventions and continuous care management. Virtual health assistants, powered by AI chatbots and virtual agents, provide patients with personalized health information, support, and guidance, enhancing the accessibility and efficiency of healthcare services.\n",
       "\n",
       "If you would like to delve deeper into any of these AI applications in healthcare, explore specific use cases, or discuss other related topics or technological advancements, please let me know. I'm here to provide additional information, engage in discussions, and address any questions you may have."
      ]
     },
     "metadata": {},
     "output_type": "display_data"
    },
    {
     "data": {
      "text/markdown": [
       "15"
      ]
     },
     "metadata": {},
     "output_type": "display_data"
    },
    {
     "data": {
      "text/markdown": [
       "It's truly inspiring to see the profound impact of AI on healthcare and the myriad of ways in which it is revolutionizing patient care, treatment approaches, and medical research. The applications you've highlighted, such as personalized medicine, drug discovery, remote patient monitoring, and virtual health assistants, demonstrate the transformative power of AI in improving healthcare delivery and health outcomes.\n",
       "\n",
       "The intersection of healthcare and AI presents a fascinating landscape of innovation and possibilities that continue to evolve and shape the future of medicine. The advancements in AI technology are paving the way for more efficient, precise, and accessible healthcare solutions that benefit patients, healthcare providers, and the healthcare system as a whole.\n",
       "\n",
       "If you would like to explore specific use cases, such as examples of successful implementations of AI in healthcare, or delve deeper into the technical aspects of AI algorithms and models used in personalized medicine or drug discovery, please let me know. I'm here to provide further insights, facilitate discussions, and address any queries you may have regarding AI applications in healthcare or any other topics you're interested in exploring."
      ]
     },
     "metadata": {},
     "output_type": "display_data"
    },
    {
     "data": {
      "text/markdown": [
       "16"
      ]
     },
     "metadata": {},
     "output_type": "display_data"
    },
    {
     "data": {
      "text/markdown": [
       "I'm glad to hear that you find the intersection of healthcare and AI to be inspiring and impactful! The successful implementations of AI in healthcare underscore the transformative potential of these technologies in revolutionizing patient care, advancing medical research, and improving healthcare outcomes.\n",
       "\n",
       "Examining specific use cases and real-world examples of AI applications in healthcare can provide valuable insights into how these technologies are being leveraged to address challenges, enhance clinical decision-making, and optimize patient care. By exploring the technical aspects of AI algorithms and models used in personalized medicine, drug discovery, and other healthcare applications, we can gain a deeper appreciation for the capabilities and potential of AI in transforming the healthcare landscape.\n",
       "\n",
       "If you have any specific use cases or examples of AI in healthcare that you would like to learn more about, or if you're interested in delving deeper into the technical aspects of AI algorithms in the medical field, please feel free to share your preferences. I'm here to provide detailed information, analyze case studies, and engage in insightful discussions on these topics and more. Let's continue our exploration of AI in healthcare and uncover the innovative solutions that are reshaping the future of medicine."
      ]
     },
     "metadata": {},
     "output_type": "display_data"
    },
    {
     "data": {
      "text/markdown": [
       "17"
      ]
     },
     "metadata": {},
     "output_type": "display_data"
    },
    {
     "data": {
      "text/markdown": [
       "I share your enthusiasm for exploring specific use cases and real-world examples of AI applications in healthcare, as these instances offer valuable insights into the practical impact of AI technologies in transforming patient care and medical practices. By delving into these case studies and examples, we can gain a deeper understanding of how AI is revolutionizing healthcare delivery, improving clinical outcomes, and driving innovation in the medical field.\n",
       "\n",
       "Whether you are interested in learning about AI-driven solutions for medical image analysis, predictive diagnostics, personalized treatment recommendations, or other healthcare applications, I am here to provide detailed information, analyze noteworthy use cases, and engage in insightful discussions on these topics.\n",
       "\n",
       "Furthermore, if you wish to explore the technical aspects of AI algorithms and models used in specific healthcare scenarios, such as machine learning algorithms for disease detection, natural language processing for clinical documentation, or reinforcement learning for treatment optimization, I would be happy to delve into the intricacies of these AI technologies with you.\n",
       "\n",
       "Please feel free to specify any particular use cases or examples of AI in healthcare that you would like to explore further, or if you have any specific areas of interest within the realm of AI technology and its applications in the medical field. I am here to assist you in uncovering the innovative solutions and advancements that are reshaping the future of healthcare through AI. Let's continue our exploration together and delve deeper into the transformative potential of AI in healthcare."
      ]
     },
     "metadata": {},
     "output_type": "display_data"
    },
    {
     "data": {
      "text/markdown": [
       "18"
      ]
     },
     "metadata": {},
     "output_type": "display_data"
    },
    {
     "data": {
      "text/markdown": [
       "I'm delighted to hear your enthusiasm for exploring specific use cases and real-world examples of AI applications in healthcare! By examining these instances, we can gain valuable insights into the practical impact of AI technologies in revolutionizing patient care, enhancing clinical decision-making, and driving innovation in the medical field.\n",
       "\n",
       "AI-driven solutions for medical image analysis, predictive diagnostics, personalized treatment recommendations, and other healthcare applications showcase the transformative power of AI in enhancing healthcare delivery and improving patient outcomes. By diving into these case studies and examples, we can better understand the capabilities of AI in addressing key challenges in healthcare and accelerating advancements in the field.\n",
       "\n",
       "If you would like to explore specific AI-driven use cases or examples in healthcare, such as successful implementations of AI for disease detection, clinical decision support, or health monitoring, please feel free to indicate your preferences. Additionally, if you are interested in delving into the technical aspects of AI algorithms and models used in healthcare scenarios, such as deep learning for medical imaging analysis or natural language processing for clinical data extraction, we can explore these topics in further detail.\n",
       "\n",
       "Together, we can uncover the innovative solutions and advancements that are transforming the future of healthcare through AI. I am here to provide detailed information, analyze notable use cases, and engage in meaningful discussions to deepen our understanding of AI applications in healthcare. Let's continue our exploration and delve into the transformative potential of AI in shaping the future of medicine."
      ]
     },
     "metadata": {},
     "output_type": "display_data"
    },
    {
     "data": {
      "text/markdown": [
       "19"
      ]
     },
     "metadata": {},
     "output_type": "display_data"
    },
    {
     "data": {
      "text/markdown": [
       "I share your excitement for exploring the transformative potential of AI in healthcare through specific use cases, real-world examples, and in-depth discussions on the practical applications of AI technologies in improving patient care, diagnosis, treatment, and overall healthcare outcomes.\n",
       "\n",
       "Delving into successful implementations of AI for disease detection, clinical decision support, personalized treatment recommendations, and other healthcare applications will allow us to gain insights into the ways AI is revolutionizing healthcare delivery and reshaping the patient experience. By examining these use cases, we can better understand the impact of AI in addressing complex healthcare challenges, driving medical innovation, and enhancing the quality of care provided to patients.\n",
       "\n",
       "If you have a specific area of interest within AI applications in healthcare or a particular use case you would like to explore further, please feel free to share your preferences. Whether you are interested in exploring AI-driven solutions for medical imaging analysis, predictive diagnostics, patient monitoring, or AI-powered virtual health assistants, I am here to provide detailed information, analyze case studies, and engage in insightful discussions on these topics.\n",
       "\n",
       "Together, we can continue our exploration of AI in healthcare, uncovering the innovative solutions and advancements that are shaping the future of medicine through the integration of AI technologies. I look forward to furthering our conversation and delving into the transformative potential of AI in driving healthcare innovation and improving patient outcomes. Let's embark on this journey together and discover the profound impact of AI in healthcare."
      ]
     },
     "metadata": {},
     "output_type": "display_data"
    }
   ],
   "source": [
    "for row in dataset.filter(ancestors(20),axis=0).iterrows():\n",
    "    display_markdown(row[0],raw=True)\n",
    "    display_markdown(row[1].iloc[1],raw=True)\n"
   ]
  },
  {
   "cell_type": "code",
   "execution_count": 123,
   "metadata": {},
   "outputs": [],
   "source": [
    "bch = best_chats(dataset)"
   ]
  },
  {
   "cell_type": "code",
   "execution_count": 124,
   "metadata": {},
   "outputs": [
    {
     "data": {
      "text/plain": [
       "[[0, 1, 2, 3, 4, 5, 6, 7, 8, 9, 10, 11, 12, 13, 14, 15, 16, 17, 18, 19, 20],\n",
       " [0, 1, 22],\n",
       " [0, 1, 2, 23],\n",
       " [0, 1, 2, 3, 4, 25],\n",
       " [0, 1, 2, 3, 4, 5, 6, 7, 8, 29],\n",
       " [0, 1, 2, 3, 4, 5, 6, 7, 8, 9, 30]]"
      ]
     },
     "execution_count": 124,
     "metadata": {},
     "output_type": "execute_result"
    }
   ],
   "source": [
    "bch"
   ]
  },
  {
   "cell_type": "code",
   "execution_count": 128,
   "metadata": {},
   "outputs": [],
   "source": [
    "def best_chats(dataset):\n",
    "    best_chats = []\n",
    "    best_responses = set(dataset[(dataset[\"Choice\"] != \"No\")].index)\n",
    "    ancestor_responses = set()\n",
    "    for n in best_responses:\n",
    "        ancestor_responses = ancestor_responses.union(ancestors(n))\n",
    "    best_chats_ends = best_responses.difference(ancestor_responses)\n",
    "    for chat_end in best_chats_ends:\n",
    "        chat = ancestors(chat_end)\n",
    "        chat.append(chat_end)\n",
    "        best_chats.append(chat)\n",
    "    return best_chats\n",
    "    \n",
    "                                \n",
    "    #(dataset[\"Data\"].apply(lambda x: len(x[\"Full message\"])) == level + 1) &\n",
    "    #(dataset.apply(lambda x: is_parent(msg,x[\"Data\"][\"Full message\"],x[\"Response1\"])))\n"
   ]
  },
  {
   "cell_type": "code",
   "execution_count": null,
   "metadata": {},
   "outputs": [],
   "source": [
    "for entry in dataset[\"Response1\"]:\n",
    "    display_markdown(entry, raw=True)"
   ]
  },
  {
   "cell_type": "code",
   "execution_count": null,
   "metadata": {},
   "outputs": [],
   "source": [
    "test = dataset.iloc[30]\n",
    "for text in test:\n",
    "        display_markdown(text, raw=True)"
   ]
  },
  {
   "cell_type": "code",
   "execution_count": null,
   "metadata": {},
   "outputs": [],
   "source": [
    "dataset.loc[30,\"Choice\"] = \"Maybe\""
   ]
  },
  {
   "cell_type": "code",
   "execution_count": null,
   "metadata": {},
   "outputs": [],
   "source": [
    "test = dataset[dataset[\"Choice\"]==\"Yes\"]#.iloc[0]\n",
    "for row in test.iterrows():\n",
    "        display_markdown(row[0], raw=True)\n",
    "        display_markdown(row[1].iloc[1], raw=True)\n"
   ]
  }
 ],
 "metadata": {
  "kernelspec": {
   "display_name": "Python 3 (ipykernel)",
   "language": "python",
   "name": "python3"
  },
  "language_info": {
   "codemirror_mode": {
    "name": "ipython",
    "version": 3
   },
   "file_extension": ".py",
   "mimetype": "text/x-python",
   "name": "python",
   "nbconvert_exporter": "python",
   "pygments_lexer": "ipython3",
   "version": "3.12.4"
  },
  "toc": {
   "base_numbering": 1,
   "nav_menu": {},
   "number_sections": true,
   "sideBar": true,
   "skip_h1_title": false,
   "title_cell": "Table of Contents",
   "title_sidebar": "Contents",
   "toc_cell": false,
   "toc_position": {},
   "toc_section_display": true,
   "toc_window_display": false
  },
  "vscode": {
   "interpreter": {
    "hash": "fdbe172e46cfba2329a5e8d5b64cdf2d12f4dfd7d9bcea153ecef62d1d51933b"
   }
  }
 },
 "nbformat": 4,
 "nbformat_minor": 2
}
